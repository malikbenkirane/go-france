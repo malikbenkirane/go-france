{
 "cells": [
  {
   "cell_type": "code",
   "execution_count": 1,
   "id": "3a1d79c2-97db-4628-98f4-c750fe254e89",
   "metadata": {
    "tags": []
   },
   "outputs": [],
   "source": [
    "import pandas as pd"
   ]
  },
  {
   "cell_type": "markdown",
   "id": "86f0c1a0-0c47-43ad-a3f3-d8b780259d22",
   "metadata": {},
   "source": [
    "## First names (INSEE 2022)\n",
    "\n",
    "https://www.insee.fr/fr/statistiques/7633685?sommaire=7635552"
   ]
  },
  {
   "cell_type": "code",
   "execution_count": 5,
   "id": "3bb62a45-36f0-4c7c-970e-b9732ceea087",
   "metadata": {
    "tags": []
   },
   "outputs": [],
   "source": [
    "nat = pd.read_csv(\"nat2022.csv\", sep=\";\")"
   ]
  },
  {
   "cell_type": "code",
   "execution_count": 19,
   "id": "2c516dcf-3e21-4bcc-a290-fde203c4c846",
   "metadata": {
    "tags": []
   },
   "outputs": [],
   "source": [
    "colpre = 'preusuel'"
   ]
  },
  {
   "cell_type": "code",
   "execution_count": 14,
   "id": "fdec76d6-e0fe-4551-be81-4222043140c6",
   "metadata": {
    "tags": []
   },
   "outputs": [
    {
     "data": {
      "text/plain": [
       "36964"
      ]
     },
     "execution_count": 14,
     "metadata": {},
     "output_type": "execute_result"
    }
   ],
   "source": [
    "prenoms = nat[colpre].unique()\n",
    "len(prenoms)"
   ]
  },
  {
   "cell_type": "code",
   "execution_count": 21,
   "id": "4c2b7ede-4654-405e-a747-11b58ce82d1f",
   "metadata": {
    "tags": []
   },
   "outputs": [
    {
     "data": {
      "text/html": [
       "<div>\n",
       "<style scoped>\n",
       "    .dataframe tbody tr th:only-of-type {\n",
       "        vertical-align: middle;\n",
       "    }\n",
       "\n",
       "    .dataframe tbody tr th {\n",
       "        vertical-align: top;\n",
       "    }\n",
       "\n",
       "    .dataframe thead th {\n",
       "        text-align: right;\n",
       "    }\n",
       "</style>\n",
       "<table border=\"1\" class=\"dataframe\">\n",
       "  <thead>\n",
       "    <tr style=\"text-align: right;\">\n",
       "      <th></th>\n",
       "      <th>sexe</th>\n",
       "      <th>preusuel</th>\n",
       "      <th>annais</th>\n",
       "      <th>nombre</th>\n",
       "    </tr>\n",
       "  </thead>\n",
       "  <tbody>\n",
       "    <tr>\n",
       "      <th>0</th>\n",
       "      <td>1</td>\n",
       "      <td>_PRENOMS_RARES</td>\n",
       "      <td>1900</td>\n",
       "      <td>1249</td>\n",
       "    </tr>\n",
       "    <tr>\n",
       "      <th>1</th>\n",
       "      <td>1</td>\n",
       "      <td>_PRENOMS_RARES</td>\n",
       "      <td>1901</td>\n",
       "      <td>1342</td>\n",
       "    </tr>\n",
       "    <tr>\n",
       "      <th>2</th>\n",
       "      <td>1</td>\n",
       "      <td>_PRENOMS_RARES</td>\n",
       "      <td>1902</td>\n",
       "      <td>1330</td>\n",
       "    </tr>\n",
       "    <tr>\n",
       "      <th>3</th>\n",
       "      <td>1</td>\n",
       "      <td>_PRENOMS_RARES</td>\n",
       "      <td>1903</td>\n",
       "      <td>1286</td>\n",
       "    </tr>\n",
       "    <tr>\n",
       "      <th>4</th>\n",
       "      <td>1</td>\n",
       "      <td>_PRENOMS_RARES</td>\n",
       "      <td>1904</td>\n",
       "      <td>1430</td>\n",
       "    </tr>\n",
       "    <tr>\n",
       "      <th>...</th>\n",
       "      <td>...</td>\n",
       "      <td>...</td>\n",
       "      <td>...</td>\n",
       "      <td>...</td>\n",
       "    </tr>\n",
       "    <tr>\n",
       "      <th>321399</th>\n",
       "      <td>2</td>\n",
       "      <td>_PRENOMS_RARES</td>\n",
       "      <td>2018</td>\n",
       "      <td>26985</td>\n",
       "    </tr>\n",
       "    <tr>\n",
       "      <th>321400</th>\n",
       "      <td>2</td>\n",
       "      <td>_PRENOMS_RARES</td>\n",
       "      <td>2019</td>\n",
       "      <td>27630</td>\n",
       "    </tr>\n",
       "    <tr>\n",
       "      <th>321401</th>\n",
       "      <td>2</td>\n",
       "      <td>_PRENOMS_RARES</td>\n",
       "      <td>2020</td>\n",
       "      <td>27914</td>\n",
       "    </tr>\n",
       "    <tr>\n",
       "      <th>321402</th>\n",
       "      <td>2</td>\n",
       "      <td>_PRENOMS_RARES</td>\n",
       "      <td>2021</td>\n",
       "      <td>28211</td>\n",
       "    </tr>\n",
       "    <tr>\n",
       "      <th>321403</th>\n",
       "      <td>2</td>\n",
       "      <td>_PRENOMS_RARES</td>\n",
       "      <td>2022</td>\n",
       "      <td>29396</td>\n",
       "    </tr>\n",
       "  </tbody>\n",
       "</table>\n",
       "<p>246 rows × 4 columns</p>\n",
       "</div>"
      ],
      "text/plain": [
       "        sexe        preusuel annais  nombre\n",
       "0          1  _PRENOMS_RARES   1900    1249\n",
       "1          1  _PRENOMS_RARES   1901    1342\n",
       "2          1  _PRENOMS_RARES   1902    1330\n",
       "3          1  _PRENOMS_RARES   1903    1286\n",
       "4          1  _PRENOMS_RARES   1904    1430\n",
       "...      ...             ...    ...     ...\n",
       "321399     2  _PRENOMS_RARES   2018   26985\n",
       "321400     2  _PRENOMS_RARES   2019   27630\n",
       "321401     2  _PRENOMS_RARES   2020   27914\n",
       "321402     2  _PRENOMS_RARES   2021   28211\n",
       "321403     2  _PRENOMS_RARES   2022   29396\n",
       "\n",
       "[246 rows x 4 columns]"
      ]
     },
     "execution_count": 21,
     "metadata": {},
     "output_type": "execute_result"
    }
   ],
   "source": [
    "nat[nat[colpre]==prenoms[0]]"
   ]
  },
  {
   "cell_type": "code",
   "execution_count": 22,
   "id": "ec8fc15c-becd-41b3-b7f3-ecda388be5c4",
   "metadata": {
    "tags": []
   },
   "outputs": [
    {
     "data": {
      "text/plain": [
       "0          1249\n",
       "1          1342\n",
       "2          1330\n",
       "3          1286\n",
       "4          1430\n",
       "          ...  \n",
       "321399    26985\n",
       "321400    27630\n",
       "321401    27914\n",
       "321402    28211\n",
       "321403    29396\n",
       "Name: nombre, Length: 246, dtype: int64"
      ]
     },
     "execution_count": 22,
     "metadata": {},
     "output_type": "execute_result"
    }
   ],
   "source": [
    "_['nombre']"
   ]
  },
  {
   "cell_type": "code",
   "execution_count": 23,
   "id": "39ef6158-c066-465e-b79e-e1da73bc981f",
   "metadata": {
    "tags": []
   },
   "outputs": [
    {
     "data": {
      "text/plain": [
       "1760252"
      ]
     },
     "execution_count": 23,
     "metadata": {},
     "output_type": "execute_result"
    }
   ],
   "source": [
    "_.sum()"
   ]
  },
  {
   "cell_type": "code",
   "execution_count": 32,
   "id": "19f1d5a1-eeb0-4b3b-ae7f-6d7fe7759d99",
   "metadata": {
    "tags": []
   },
   "outputs": [
    {
     "name": "stdout",
     "output_type": "stream",
     "text": [
      "0.024997294665079536\n",
      "0.0500216426793637\n",
      "0.07504599069364787\n",
      "0.10007033870793204\n",
      "0.12509468672221621\n",
      "0.15011903473650037\n",
      "0.17514338275078456\n",
      "0.20016773076506872\n",
      "0.22519207877935288\n",
      "0.25021642679363704\n",
      "0.2752407748079212\n",
      "0.3002651228222054\n",
      "0.32528947083648957\n",
      "0.35031381885077373\n",
      "0.3753381668650579\n",
      "0.40036251487934205\n",
      "0.4253868628936262\n",
      "0.4504112109079104\n",
      "0.4754355589221946\n",
      "0.5004599069364787\n",
      "0.5254842549507629\n",
      "0.5505086029650471\n",
      "0.5755329509793312\n",
      "0.6005572989936154\n",
      "0.6255816470078995\n",
      "0.6506059950221837\n",
      "0.675630343036468\n",
      "0.7006546910507521\n",
      "0.7256790390650363\n",
      "0.7507033870793204\n",
      "0.7757277350936046\n",
      "0.8007520831078887\n",
      "0.8257764311221729\n",
      "0.8508007791364571\n",
      "0.8758251271507412\n",
      "0.9008494751650254\n",
      "0.9258738231793096\n",
      "0.9508981711935938\n",
      "0.975922519207878\n"
     ]
    }
   ],
   "source": [
    "d = {}\n",
    "s = 0\n",
    "for (i, p) in enumerate(prenoms):\n",
    "    d[p] = nat[nat[colpre]==p]['nombre'].sum()\n",
    "    s+=1\n",
    "    if s > len(prenoms)/40:\n",
    "        s = 0\n",
    "        print(i/len(prenoms))"
   ]
  },
  {
   "cell_type": "code",
   "execution_count": 47,
   "id": "5a3c4f16-edda-4321-b7d8-4c9119182ae5",
   "metadata": {
    "tags": []
   },
   "outputs": [
    {
     "data": {
      "text/plain": [
       "MARIE             2258792\n",
       "JEAN              1913115\n",
       "_PRENOMS_RARES    1760252\n",
       "PIERRE             893126\n",
       "MICHEL             820677\n",
       "                   ...   \n",
       "GAÊL                   20\n",
       "LYÏA                   20\n",
       "STEFANNY               20\n",
       "YURIY                  20\n",
       "NaN                     0\n",
       "Length: 36964, dtype: int64"
      ]
     },
     "execution_count": 47,
     "metadata": {},
     "output_type": "execute_result"
    }
   ],
   "source": [
    "s = pd.Series(d).sort_values(ascending=False)\n",
    "s"
   ]
  },
  {
   "cell_type": "code",
   "execution_count": 51,
   "id": "93d062f1-ea30-42b8-856a-82a762615d30",
   "metadata": {
    "tags": []
   },
   "outputs": [],
   "source": [
    "s.to_csv(\"prenoms_sorted_by_count.csv\", header=False)"
   ]
  },
  {
   "cell_type": "markdown",
   "id": "0ea35917-331a-40f3-96ec-dbe5c24801b7",
   "metadata": {},
   "source": [
    "## Last names (INSEE 2008)\n",
    "\n",
    "https://www.insee.fr/fr/statistiques/3536630"
   ]
  },
  {
   "cell_type": "code",
   "execution_count": 61,
   "id": "0664034e-bd13-48a0-af18-ccb8f306cefb",
   "metadata": {
    "tags": []
   },
   "outputs": [
    {
     "data": {
      "text/html": [
       "<div>\n",
       "<style scoped>\n",
       "    .dataframe tbody tr th:only-of-type {\n",
       "        vertical-align: middle;\n",
       "    }\n",
       "\n",
       "    .dataframe tbody tr th {\n",
       "        vertical-align: top;\n",
       "    }\n",
       "\n",
       "    .dataframe thead th {\n",
       "        text-align: right;\n",
       "    }\n",
       "</style>\n",
       "<table border=\"1\" class=\"dataframe\">\n",
       "  <thead>\n",
       "    <tr style=\"text-align: right;\">\n",
       "      <th></th>\n",
       "      <th>NOM</th>\n",
       "      <th>_1891_1900</th>\n",
       "      <th>_1901_1910</th>\n",
       "      <th>_1911_1920</th>\n",
       "      <th>_1921_1930</th>\n",
       "      <th>_1931_1940</th>\n",
       "      <th>_1941_1950</th>\n",
       "      <th>_1951_1960</th>\n",
       "      <th>_1961_1970</th>\n",
       "      <th>_1971_1980</th>\n",
       "      <th>_1981_1990</th>\n",
       "      <th>_1991_2000</th>\n",
       "    </tr>\n",
       "  </thead>\n",
       "  <tbody>\n",
       "    <tr>\n",
       "      <th>0</th>\n",
       "      <td>AABI</td>\n",
       "      <td>0</td>\n",
       "      <td>0</td>\n",
       "      <td>0</td>\n",
       "      <td>0</td>\n",
       "      <td>0</td>\n",
       "      <td>0</td>\n",
       "      <td>0</td>\n",
       "      <td>0</td>\n",
       "      <td>4</td>\n",
       "      <td>21</td>\n",
       "      <td>7</td>\n",
       "    </tr>\n",
       "    <tr>\n",
       "      <th>1</th>\n",
       "      <td>AABID</td>\n",
       "      <td>0</td>\n",
       "      <td>0</td>\n",
       "      <td>0</td>\n",
       "      <td>0</td>\n",
       "      <td>0</td>\n",
       "      <td>0</td>\n",
       "      <td>0</td>\n",
       "      <td>0</td>\n",
       "      <td>7</td>\n",
       "      <td>13</td>\n",
       "      <td>17</td>\n",
       "    </tr>\n",
       "    <tr>\n",
       "      <th>2</th>\n",
       "      <td>AALBERG</td>\n",
       "      <td>1</td>\n",
       "      <td>5</td>\n",
       "      <td>2</td>\n",
       "      <td>5</td>\n",
       "      <td>4</td>\n",
       "      <td>6</td>\n",
       "      <td>4</td>\n",
       "      <td>2</td>\n",
       "      <td>1</td>\n",
       "      <td>0</td>\n",
       "      <td>0</td>\n",
       "    </tr>\n",
       "    <tr>\n",
       "      <th>3</th>\n",
       "      <td>AAMARA</td>\n",
       "      <td>0</td>\n",
       "      <td>0</td>\n",
       "      <td>0</td>\n",
       "      <td>0</td>\n",
       "      <td>0</td>\n",
       "      <td>0</td>\n",
       "      <td>0</td>\n",
       "      <td>1</td>\n",
       "      <td>11</td>\n",
       "      <td>5</td>\n",
       "      <td>15</td>\n",
       "    </tr>\n",
       "    <tr>\n",
       "      <th>4</th>\n",
       "      <td>AARAB</td>\n",
       "      <td>0</td>\n",
       "      <td>0</td>\n",
       "      <td>0</td>\n",
       "      <td>0</td>\n",
       "      <td>0</td>\n",
       "      <td>0</td>\n",
       "      <td>0</td>\n",
       "      <td>3</td>\n",
       "      <td>63</td>\n",
       "      <td>204</td>\n",
       "      <td>139</td>\n",
       "    </tr>\n",
       "    <tr>\n",
       "      <th>...</th>\n",
       "      <td>...</td>\n",
       "      <td>...</td>\n",
       "      <td>...</td>\n",
       "      <td>...</td>\n",
       "      <td>...</td>\n",
       "      <td>...</td>\n",
       "      <td>...</td>\n",
       "      <td>...</td>\n",
       "      <td>...</td>\n",
       "      <td>...</td>\n",
       "      <td>...</td>\n",
       "      <td>...</td>\n",
       "    </tr>\n",
       "    <tr>\n",
       "      <th>218978</th>\n",
       "      <td>ZYSK</td>\n",
       "      <td>0</td>\n",
       "      <td>0</td>\n",
       "      <td>0</td>\n",
       "      <td>4</td>\n",
       "      <td>4</td>\n",
       "      <td>3</td>\n",
       "      <td>12</td>\n",
       "      <td>4</td>\n",
       "      <td>7</td>\n",
       "      <td>10</td>\n",
       "      <td>11</td>\n",
       "    </tr>\n",
       "    <tr>\n",
       "      <th>218979</th>\n",
       "      <td>ZYSMAN</td>\n",
       "      <td>0</td>\n",
       "      <td>0</td>\n",
       "      <td>0</td>\n",
       "      <td>8</td>\n",
       "      <td>19</td>\n",
       "      <td>3</td>\n",
       "      <td>14</td>\n",
       "      <td>17</td>\n",
       "      <td>7</td>\n",
       "      <td>10</td>\n",
       "      <td>8</td>\n",
       "    </tr>\n",
       "    <tr>\n",
       "      <th>218980</th>\n",
       "      <td>ZYTA</td>\n",
       "      <td>0</td>\n",
       "      <td>0</td>\n",
       "      <td>0</td>\n",
       "      <td>1</td>\n",
       "      <td>1</td>\n",
       "      <td>4</td>\n",
       "      <td>12</td>\n",
       "      <td>7</td>\n",
       "      <td>8</td>\n",
       "      <td>11</td>\n",
       "      <td>1</td>\n",
       "    </tr>\n",
       "    <tr>\n",
       "      <th>218981</th>\n",
       "      <td>ZYTO</td>\n",
       "      <td>0</td>\n",
       "      <td>0</td>\n",
       "      <td>1</td>\n",
       "      <td>9</td>\n",
       "      <td>3</td>\n",
       "      <td>8</td>\n",
       "      <td>9</td>\n",
       "      <td>8</td>\n",
       "      <td>8</td>\n",
       "      <td>8</td>\n",
       "      <td>3</td>\n",
       "    </tr>\n",
       "    <tr>\n",
       "      <th>218982</th>\n",
       "      <td>AUTRES NOMS</td>\n",
       "      <td>227267</td>\n",
       "      <td>319995</td>\n",
       "      <td>284557</td>\n",
       "      <td>409790</td>\n",
       "      <td>382905</td>\n",
       "      <td>441726</td>\n",
       "      <td>522040</td>\n",
       "      <td>604057</td>\n",
       "      <td>666868</td>\n",
       "      <td>757419</td>\n",
       "      <td>857392</td>\n",
       "    </tr>\n",
       "  </tbody>\n",
       "</table>\n",
       "<p>218983 rows × 12 columns</p>\n",
       "</div>"
      ],
      "text/plain": [
       "                NOM  _1891_1900  _1901_1910  _1911_1920  _1921_1930  \\\n",
       "0              AABI           0           0           0           0   \n",
       "1             AABID           0           0           0           0   \n",
       "2           AALBERG           1           5           2           5   \n",
       "3            AAMARA           0           0           0           0   \n",
       "4             AARAB           0           0           0           0   \n",
       "...             ...         ...         ...         ...         ...   \n",
       "218978         ZYSK           0           0           0           4   \n",
       "218979       ZYSMAN           0           0           0           8   \n",
       "218980         ZYTA           0           0           0           1   \n",
       "218981         ZYTO           0           0           1           9   \n",
       "218982  AUTRES NOMS      227267      319995      284557      409790   \n",
       "\n",
       "        _1931_1940  _1941_1950  _1951_1960  _1961_1970  _1971_1980  \\\n",
       "0                0           0           0           0           4   \n",
       "1                0           0           0           0           7   \n",
       "2                4           6           4           2           1   \n",
       "3                0           0           0           1          11   \n",
       "4                0           0           0           3          63   \n",
       "...            ...         ...         ...         ...         ...   \n",
       "218978           4           3          12           4           7   \n",
       "218979          19           3          14          17           7   \n",
       "218980           1           4          12           7           8   \n",
       "218981           3           8           9           8           8   \n",
       "218982      382905      441726      522040      604057      666868   \n",
       "\n",
       "        _1981_1990  _1991_2000  \n",
       "0               21           7  \n",
       "1               13          17  \n",
       "2                0           0  \n",
       "3                5          15  \n",
       "4              204         139  \n",
       "...            ...         ...  \n",
       "218978          10          11  \n",
       "218979          10           8  \n",
       "218980          11           1  \n",
       "218981           8           3  \n",
       "218982      757419      857392  \n",
       "\n",
       "[218983 rows x 12 columns]"
      ]
     },
     "execution_count": 61,
     "metadata": {},
     "output_type": "execute_result"
    }
   ],
   "source": [
    "df = pd.read_csv('noms2008nat_txt.txt', sep='\\t')\n",
    "df"
   ]
  },
  {
   "cell_type": "code",
   "execution_count": 63,
   "id": "da5e1c94-a8b8-4764-b3a6-c57152989ad2",
   "metadata": {
    "tags": []
   },
   "outputs": [
    {
     "data": {
      "text/plain": [
       "Index(['NOM', '_1891_1900', '_1901_1910', '_1911_1920', '_1921_1930',\n",
       "       '_1931_1940', '_1941_1950', '_1951_1960', '_1961_1970', '_1971_1980',\n",
       "       '_1981_1990', '_1991_2000'],\n",
       "      dtype='object')"
      ]
     },
     "execution_count": 63,
     "metadata": {},
     "output_type": "execute_result"
    }
   ],
   "source": [
    "cols = df.columns\n",
    "cols"
   ]
  },
  {
   "cell_type": "markdown",
   "id": "e2a69e5b-08d7-4277-9e44-f07ef043763d",
   "metadata": {},
   "source": [
    "Summing counts over all the years:"
   ]
  },
  {
   "cell_type": "code",
   "execution_count": 76,
   "id": "34bd6191-a040-4141-afed-3bac4ce860e0",
   "metadata": {
    "tags": []
   },
   "outputs": [
    {
     "data": {
      "text/plain": [
       "0              32\n",
       "1              37\n",
       "2              30\n",
       "3              32\n",
       "4             409\n",
       "           ...   \n",
       "218978         55\n",
       "218979         86\n",
       "218980         45\n",
       "218981         57\n",
       "218982    5474016\n",
       "Length: 218983, dtype: int64"
      ]
     },
     "execution_count": 76,
     "metadata": {},
     "output_type": "execute_result"
    }
   ],
   "source": [
    "def f(s):\n",
    "    return s.iloc[1:].sum()\n",
    "    \n",
    "df.apply(f, axis=1)"
   ]
  },
  {
   "cell_type": "markdown",
   "id": "c45aff73-f5e3-4047-998f-40e2a1dcb1a8",
   "metadata": {},
   "source": [
    "Then, a memo for apply (just ignore this)"
   ]
  },
  {
   "cell_type": "code",
   "execution_count": 68,
   "id": "793b58ae-ded5-40ae-96b0-d8d4fc74d5e7",
   "metadata": {
    "tags": []
   },
   "outputs": [],
   "source": [
    "_d = pd.DataFrame({\n",
    "    1: {\"a\": 1, \"b\": 13},\n",
    "    2: {\"a\": 22, \"b\": 12},\n",
    "})"
   ]
  },
  {
   "cell_type": "code",
   "execution_count": 71,
   "id": "114971c0-3352-482a-9703-4967b2bd170b",
   "metadata": {
    "tags": []
   },
   "outputs": [
    {
     "data": {
      "text/plain": [
       "a    23\n",
       "b    25\n",
       "dtype: int64"
      ]
     },
     "execution_count": 71,
     "metadata": {},
     "output_type": "execute_result"
    }
   ],
   "source": [
    "_d.apply(lambda c: c.sum(), axis=1)"
   ]
  },
  {
   "cell_type": "code",
   "execution_count": 70,
   "id": "035cbe3a-860b-4c14-ad79-6147aa9f5b96",
   "metadata": {
    "tags": []
   },
   "outputs": [
    {
     "data": {
      "text/html": [
       "<div>\n",
       "<style scoped>\n",
       "    .dataframe tbody tr th:only-of-type {\n",
       "        vertical-align: middle;\n",
       "    }\n",
       "\n",
       "    .dataframe tbody tr th {\n",
       "        vertical-align: top;\n",
       "    }\n",
       "\n",
       "    .dataframe thead th {\n",
       "        text-align: right;\n",
       "    }\n",
       "</style>\n",
       "<table border=\"1\" class=\"dataframe\">\n",
       "  <thead>\n",
       "    <tr style=\"text-align: right;\">\n",
       "      <th></th>\n",
       "      <th>1</th>\n",
       "      <th>2</th>\n",
       "    </tr>\n",
       "  </thead>\n",
       "  <tbody>\n",
       "    <tr>\n",
       "      <th>a</th>\n",
       "      <td>1</td>\n",
       "      <td>22</td>\n",
       "    </tr>\n",
       "    <tr>\n",
       "      <th>b</th>\n",
       "      <td>13</td>\n",
       "      <td>12</td>\n",
       "    </tr>\n",
       "  </tbody>\n",
       "</table>\n",
       "</div>"
      ],
      "text/plain": [
       "    1   2\n",
       "a   1  22\n",
       "b  13  12"
      ]
     },
     "execution_count": 70,
     "metadata": {},
     "output_type": "execute_result"
    }
   ],
   "source": [
    "_d"
   ]
  },
  {
   "cell_type": "code",
   "execution_count": 82,
   "id": "bec14bf3-5b06-4874-8f2f-02de658ce274",
   "metadata": {
    "tags": []
   },
   "outputs": [],
   "source": [
    "cdf = pd.DataFrame({\n",
    "    'nom': df['NOM'], \n",
    "    'count': df.apply(f, axis=1)\n",
    "})\n"
   ]
  },
  {
   "cell_type": "code",
   "execution_count": 87,
   "id": "09a0014d-807b-4674-a727-331804132f88",
   "metadata": {
    "tags": []
   },
   "outputs": [
    {
     "data": {
      "text/plain": [
       "nom\n",
       "AABI          NaN\n",
       "AABID         NaN\n",
       "AALBERG       NaN\n",
       "AAMARA        NaN\n",
       "AARAB         NaN\n",
       "               ..\n",
       "ZYSK          NaN\n",
       "ZYSMAN        NaN\n",
       "ZYTA          NaN\n",
       "ZYTO          NaN\n",
       "AUTRES NOMS   NaN\n",
       "Name: count, Length: 218983, dtype: float64"
      ]
     },
     "execution_count": 87,
     "metadata": {},
     "output_type": "execute_result"
    }
   ],
   "source": [
    "pd.Series(cdf['count'], index=cdf['nom'])"
   ]
  },
  {
   "cell_type": "code",
   "execution_count": 93,
   "id": "cc0491a5-9e8e-405a-b9ad-4cbb9d6f0ea9",
   "metadata": {
    "tags": []
   },
   "outputs": [
    {
     "data": {
      "text/plain": [
       "nom\n",
       "AUTRES NOMS     5474016\n",
       "MARTIN           250013\n",
       "BERNARD          131330\n",
       "THOMAS           118331\n",
       "PETIT            115217\n",
       "                 ...   \n",
       "MANIERES             30\n",
       "COMTE-FLORET         30\n",
       "DEHIL                30\n",
       "DOUCET-BON           30\n",
       "MILLUL               30\n",
       "Name: count, Length: 218983, dtype: int64"
      ]
     },
     "execution_count": 93,
     "metadata": {},
     "output_type": "execute_result"
    }
   ],
   "source": [
    "cdf.set_index(cdf['nom'])['count'].sort_values(ascending=False)"
   ]
  },
  {
   "cell_type": "code",
   "execution_count": 94,
   "id": "4c37539a-cfec-464e-85dc-19f77a556f47",
   "metadata": {
    "tags": []
   },
   "outputs": [],
   "source": [
    "_.to_csv('noms_sorted_by_count.csv', header=None)"
   ]
  },
  {
   "cell_type": "code",
   "execution_count": null,
   "id": "c98cf412-df97-49fe-ade8-d90705a88f8c",
   "metadata": {},
   "outputs": [],
   "source": []
  }
 ],
 "metadata": {
  "kernelspec": {
   "display_name": "Python 3 (ipykernel)",
   "language": "python",
   "name": "python3"
  },
  "language_info": {
   "codemirror_mode": {
    "name": "ipython",
    "version": 3
   },
   "file_extension": ".py",
   "mimetype": "text/x-python",
   "name": "python",
   "nbconvert_exporter": "python",
   "pygments_lexer": "ipython3",
   "version": "3.11.3"
  }
 },
 "nbformat": 4,
 "nbformat_minor": 5
}
